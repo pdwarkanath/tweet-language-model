{
 "cells": [
  {
   "cell_type": "code",
   "execution_count": 1,
   "metadata": {
    "colab": {},
    "colab_type": "code",
    "id": "5Jc4Y5Dc63em"
   },
   "outputs": [],
   "source": [
    "import tweepy\n",
    "import json\n",
    "import time"
   ]
  },
  {
   "cell_type": "code",
   "execution_count": 3,
   "metadata": {
    "colab": {},
    "colab_type": "code",
    "id": "wP3iG668721i"
   },
   "outputs": [],
   "source": [
    "#from google.colab import drive"
   ]
  },
  {
   "cell_type": "code",
   "execution_count": 4,
   "metadata": {
    "colab": {
     "base_uri": "https://localhost:8080/",
     "height": 122
    },
    "colab_type": "code",
    "id": "7_SUlc3F77za",
    "outputId": "66db709e-d6f3-4adc-ed95-0eea5a246705"
   },
   "outputs": [],
   "source": [
    "#drive.mount('data')"
   ]
  },
  {
   "cell_type": "code",
   "execution_count": 5,
   "metadata": {
    "colab": {
     "base_uri": "https://localhost:8080/",
     "height": 34
    },
    "colab_type": "code",
    "id": "oohG7W0x8NXJ",
    "outputId": "ca8b9b51-909b-40fe-d2eb-6793d792d541"
   },
   "outputs": [],
   "source": [
    "#!ls 'data/My Drive/Colab Notebooks/data'"
   ]
  },
  {
   "cell_type": "code",
   "execution_count": 40,
   "metadata": {
    "colab": {},
    "colab_type": "code",
    "id": "YlKhboKF63ep"
   },
   "outputs": [],
   "source": [
    "#tweetfile = 'data/My Drive/Colab Notebooks/data/tweet.js'\n",
    "tweetfile = '../data/my-tweets-2018-12-27/tweet.js'"
   ]
  },
  {
   "cell_type": "code",
   "execution_count": 41,
   "metadata": {
    "colab": {},
    "colab_type": "code",
    "id": "qGCuF9xf63es"
   },
   "outputs": [],
   "source": [
    "with open(tweetfile, 'r+', encoding = 'utf-8') as f:\n",
    "    lines = '[{'+''.join(f.readlines()[1:])\n",
    "    tweets = json.loads(lines)"
   ]
  },
  {
   "cell_type": "code",
   "execution_count": 42,
   "metadata": {
    "colab": {
     "base_uri": "https://localhost:8080/",
     "height": 34
    },
    "colab_type": "code",
    "id": "O2ienz2e63e0",
    "outputId": "2fe3a433-a7e3-4170-cd16-84665355ebe8"
   },
   "outputs": [
    {
     "data": {
      "text/plain": [
       "list"
      ]
     },
     "execution_count": 42,
     "metadata": {},
     "output_type": "execute_result"
    }
   ],
   "source": [
    "type(tweets)"
   ]
  },
  {
   "cell_type": "code",
   "execution_count": 43,
   "metadata": {
    "colab": {
     "base_uri": "https://localhost:8080/",
     "height": 2247
    },
    "colab_type": "code",
    "id": "czpGaQyZ63e5",
    "outputId": "b139ade6-e210-485f-c626-782b9208ba6b"
   },
   "outputs": [
    {
     "name": "stdout",
     "output_type": "stream",
     "text": [
      "Ted Mosby https://t.co/E91LykbNIe\n",
      "What even was that performance. We're a long ball team now?\n",
      "@okmanideep @abhi_manjunath Someone give them lasagna, dammit.\n",
      "WTF is going on with Manchester City?\n",
      "RT @hotjamz: he's makin a list\n",
      "it's kept in plain text\n",
      "an elf just got phished\n",
      "you know what is next\n",
      "santa claus has leaked 2.2 billion use…\n",
      "RT @cantdrawarsenal: Happy Birthday Ramsey! https://t.co/l8xg4WsaD4\n",
      "Everytime I call a restaurant, they say, \"Yes, ma'am\" Er...\n",
      "@OdehEveryday This was in CStat?\n",
      "@discopiggu Doesn't matter as long as the reader knows what it means.\n",
      "People who grew up in the 90s now have purchasing power. So stuff that was popular then can be used to sell stuff now. That explains all the remakes of 90s songs and Google hiring Macaulay Culkin for their ad targeted at this age group.\n",
      "\n",
      "What other one hit wonders will return. 🤔\n",
      "PayTM recently did it with Kerala floods. Matching donations cost them a total of Rs. 1 crore . They collected over 30 crore from 12 lac users. If say 1% of the users were new, that's under Rs. 1000 cost of acquisition.\n",
      "Is there a startup that trades philanthropy for marketing? As in take an amount equal to making / distributing an ad and instead put it towards a cause that generates an equal / comparable number of eyeballs?\n",
      "RT @jainayush01: @dk_prabhu And that too, when he is Bahubali! But I believe for him, his mom ka vachan hi unka saashan hai :P\n",
      "Prabhas agreed with Karan Johar his parents won't let him be in a live-in relationship on #KoffeeWithKaran \n",
      "\n",
      "Grown-ass man in his 30s who is a movie star is scared of his parents. What chance do us plebs have\n",
      "I'm seeing my parents practicing a dance routine for a Sangeet. That reminds me of this thread: https://t.co/G5IkiMY1l7\n",
      "RT @skandhurkat: Achievement unlocked. Google recommends that I listen to the Alex Jones podcast.\n",
      "RT @manishtanks: Only Sabyasachi had a good 2018 https://t.co/kPg8AHZr67\n",
      "Solskjaer and scoring within minutes of coming on. Name a better combo\n",
      "Watching the Premier League and repping Texas in the morning https://t.co/G1dop9udks\n",
      "Overreacting much? I can name 10. lol https://t.co/NfZS7E1ckT\n",
      "Come on Cardiff 😂\n",
      "Squeaky bum time at Crystal Palace\n",
      "Hope Theo props up with a brace and shows the right way to do the 2-0 sign to Dele Alli\n",
      "RT @tetisheri: @dk_prabhu Chou chou\n",
      "If things stay as they are and Everton do something good for a change tomorrow, this might be a great weekend for Liverpool \n",
      "\n",
      "(and Arsenal)\n",
      "@tetisheri Merde\n",
      "@bakarconsultant https://t.co/BWyiIIQjhr\n",
      "Scenes if Crystal Palace win at Man City\n",
      "Come on Leicester City :D\n",
      "And now Barnes is substituted. This is the same crap as it was with Rojo against Man Utd.\n",
      "How is Barnes scoring a goal when he shouldn't even be on the pitch &gt;.&lt;\n",
      "Barnes should be sent off already.\n",
      "What a goal. #Aubameyang #ARSBUR\n",
      "HALFTIME LEAD WOO\n",
      "Is this a subtweet? https://t.co/lOaXh3fngq\n",
      "@Saisailu97 That's why Queen was so different.\n",
      "Someone is going to become a famous movie star because of their TikTok / Musically videos and y'all are going to feel really stupid.\n",
      "I wonder if Mourinho, Wenger and Ferguson hang out together now that they have a lot of free time.\n",
      "Watched Andhadhun last night. It's a good movie. Damn you people for hyping it.\n",
      "Why do PSG have Guardiola working as a painter? https://t.co/RXHiteqh3S\n",
      "I miss his donkey DP. Was more appropriate. https://t.co/UizqKHnHFq\n",
      "@thecipherstory Which song was this?\n",
      "@thefakeiitian I'm surprised Jio isn't one of them... Oh wait.\n",
      "People who write lamda functions are psychopaths.\n",
      "@madalsas 😂😂\n",
      "@madalsas So... plans?\n",
      "Oh it is now. I'm a little late to the party :-/\n",
      "RT @meduuuh: i never understood why the person at the drive thru window rushes my order\n",
      "\n",
      "you’re the one that gets paid hourly. i’m helping…\n",
      "We can all agree that Piers Morgan is a cunt.\n",
      "Gonna be so disappointed to learn there is no such thing as heaven https://t.co/KFWZbYsuGO\n",
      "RT @brenankeller: A QA engineer walks into a bar. Orders a beer. Orders 0 beers. Orders 99999999999 beers. Orders a lizard. Orders -1 beers…\n",
      "@AjinkyaVR There's a large independent Tamil movie scene as well. So there's successful movies like Soodhu Kavvum, Jigarthanda, Neram by young directors.\n",
      "\n",
      "The masala movies with big stars make the most money though. Bollywood remakes these (see Singham, Ghajini. Both starring Suriya).\n",
      "Mark Hughes was sacked for dropping points against Manchester United? Oh wow.\n",
      "Why is Karim Benzema listed as a France player? When was the last time he played for France?\n",
      "@_alialkhatib Check out @TickTickTeam\n",
      "North Indians do know that South Indian movies are more than Rajnikanth and Bahubali, right? https://t.co/ARWv1BSCWJ\n",
      "Anything that gets Barcelona fans triggered is a good thing.\n",
      "\n",
      "#ballondor\n",
      "RT @ReviewFootball: Dele Alli completed 6 passes in the second half vs Arsenal. \n",
      "\n",
      "4 of those passes were from kick-offs. \n",
      "\n",
      "#NorthLondonDerb…\n",
      "What is a Solihull?\n",
      "You know how teachers would tell you that you are all worthless and you won't do anything in life. Then it turns out they're right? We don't hear enough of those stories 😂\n",
      "RT @iamdevloper: JavaScript: FATAL ERROR cannot remove child from parent node\n",
      "\n",
      "Me: good, I don't wanna break apart a family this close to t…\n",
      "@rationalite lol\n",
      "What's in those leaves? https://t.co/wFWziYJBVs\n",
      "Not according to Kuch Kuch Hota Hai, that's for sure. https://t.co/Y59aOb6nMX\n",
      "Now do Avril Lavigne https://t.co/joZisO2ZhG\n",
      "I'm watching the Tamil remake of 3 Idiots. They have copied it frame by frame. Even the jokes are the same. 🤦\n",
      "How do you get treated for a life-threatening disease thanks to the advances medicine has made and then turn around and thank God?\n",
      "Why is Everton allowed to exist?\n",
      "RT @cantdrawarsenal: Remember when Arsenal beat Spurs 4-2 after being down 1-2 at the half? That was fun.\n",
      "Torreira https://t.co/3Cgpz5kPwP\n",
      "When was the last time an Arsenal player was the top scorer in the league? van Persie in 2012?\n",
      "RT @Aubameyang7: I love tap ins but come on put some RESPEK on my name 😆😂😂😂😂💪🏽 #NorthLondonIsRed #WeAreTheArsenal #COYG https://t.co/pAxsVo…\n",
      "Torreira is the best signing of the summer in the Premier League\n",
      "Aubameyang has 10 goals in the Premier League. Alexis doesn't have 10 goals in base 2.\n",
      "RT @cantdrawarsenal: I drew North London https://t.co/gFVIMhvwto\n",
      "Cc: Dwayne Bravo https://t.co/Cyo2C6aOTd\n",
      "RT @ASRomaEN: \"Champions League, I don't feel so good.\" https://t.co/iQynpnxBcE\n",
      "@parul_pm Sigh. How do people fall for such crap.\n",
      "RT @Sport_Witness: Huge drama in Italy.\n",
      "\n",
      "Inter have beaten Lazio 3-2 to snatch 4th place from them and qualify for the Champions League.…\n",
      "I keep going back to that thread and wonder who these people are who RT basic shit like 'OMG Women shit? That's so eye-opening' in 2018. https://t.co/6qkIvaLU0s\n",
      "@CSTXPolice What is this program about? I'm a student from India 😂\n",
      "\n",
      "Can I ride along? 😂\n",
      "RT @dk_prabhu: What do you call a group of Maharashtrian foodies in Havana?\n",
      "\n",
      "Cuban Misal Crisis\n",
      "\n",
      "#sorrynotsorry #kthxbai\n",
      "Why do people still use Quora? https://t.co/YB2OALQa13\n",
      "@BeingChatterjee @WiseDonkay ?\n",
      "RT @TheArsenalChris: Giroud has won 4 FA Cups in the last 5 years, which is more than Tottenham in the last 50 years (3 FA Cups) https://t.…\n",
      ".@vinodkambli349 where can I watch this movie Pal Pal Dil Ke Ssaat? https://t.co/8XfNBgVwOd\n",
      "Does everyone else also feel dirty when they like a DT tweet. https://t.co/WBmtXI87Dp\n",
      ".@BJP4Karnataka https://t.co/pyE10TXHGc\n",
      "@tetisheri Why\n",
      "Has anyone done the 'Dulhan ki vidaayi ka waqt badalna hai' for #RoyalWedding\n",
      "Imagine being a Man Utd fan in 2018. That shit stopped being fun in 2013.\n",
      "😂😂 https://t.co/SRHUT8PYG8\n",
      "Imagine taking a banter club seriously.\n",
      "😂😂 https://t.co/dfUC09u6qh\n",
      "RT @RootKanal: JDBJVBDJBV FUCKKKKKK\n",
      "Giroud &gt; Alexis\n",
      "Come on Chelsea 😂\n",
      "Hype train has left the station and has no brakes.Choo choo! https://t.co/hDY788faKH\n",
      "RT @RantsPakistani: when you used to believe you're great in bed but find out your ex turned homo after you https://t.co/JQ9AhHnemY\n",
      "Random craving for the Anda Dosa at Maddu.\n"
     ]
    }
   ],
   "source": [
    "for i in tweets[:100]:\n",
    "    print(i['full_text'].strip())"
   ]
  },
  {
   "cell_type": "code",
   "execution_count": 47,
   "metadata": {
    "colab": {},
    "colab_type": "code",
    "id": "0ugDM_xu63e8"
   },
   "outputs": [],
   "source": [
    "with open('tweets.txt','w', encoding = 'utf8') as f:\n",
    "    for i in tweets:\n",
    "        f.write(i['full_text'].strip() + '\\n')"
   ]
  },
  {
   "cell_type": "code",
   "execution_count": 45,
   "metadata": {
    "colab": {},
    "colab_type": "code",
    "id": "mP8bf52C9RnN"
   },
   "outputs": [],
   "source": [
    "with open('tweets.txt', 'r',encoding = 'utf8') as f:\n",
    "    text = f.read()"
   ]
  },
  {
   "cell_type": "code",
   "execution_count": 46,
   "metadata": {},
   "outputs": [
    {
     "data": {
      "text/plain": [
       "3206873"
      ]
     },
     "execution_count": 46,
     "metadata": {},
     "output_type": "execute_result"
    }
   ],
   "source": [
    "len(text)"
   ]
  },
  {
   "cell_type": "code",
   "execution_count": 18,
   "metadata": {},
   "outputs": [
    {
     "data": {
      "text/plain": [
       "'e'"
      ]
     },
     "execution_count": 18,
     "metadata": {},
     "output_type": "execute_result"
    }
   ],
   "source": [
    "text[1000000]"
   ]
  },
  {
   "cell_type": "code",
   "execution_count": 2,
   "metadata": {},
   "outputs": [],
   "source": [
    "with open('tweetapi.json') as f:\n",
    "    tweetapi = json.load(f)"
   ]
  },
  {
   "cell_type": "code",
   "execution_count": 3,
   "metadata": {},
   "outputs": [],
   "source": [
    "consumer_key = tweetapi['consumer_key']\n",
    "consumer_secret = tweetapi['consumer_secret']\n",
    "access_key = tweetapi['access_key']\n",
    "access_secret = tweetapi['access_secret']"
   ]
  },
  {
   "cell_type": "code",
   "execution_count": 4,
   "metadata": {},
   "outputs": [],
   "source": [
    "def get_tweets(username, num_tweets):\n",
    "    # Authorization to consumer key and consumer secret \n",
    "    auth = tweepy.OAuthHandler(consumer_key, consumer_secret) \n",
    "\n",
    "    # Access to user's access key and access secret \n",
    "    auth.set_access_token(access_key, access_secret) \n",
    "\n",
    "    # Calling api \n",
    "    api = tweepy.API(auth)\n",
    "    filename = username+'_tweets'+time.strftime('%Y%m%d%H%M')+'.txt'\n",
    "    with open(filename,'w', encoding = 'utf8') as f:\n",
    "        for status in tweepy.Cursor(api.user_timeline, screen_name=username, tweet_mode = 'extended').items(num_tweets):\n",
    "            f.write(status.full_text + '\\n')"
   ]
  },
  {
   "cell_type": "code",
   "execution_count": 7,
   "metadata": {},
   "outputs": [],
   "source": [
    "get_tweets('dk_prabhu', 200)"
   ]
  },
  {
   "cell_type": "code",
   "execution_count": null,
   "metadata": {},
   "outputs": [],
   "source": []
  }
 ],
 "metadata": {
  "colab": {
   "collapsed_sections": [],
   "name": "GetTweets.ipynb",
   "provenance": [],
   "version": "0.3.2"
  },
  "kernelspec": {
   "display_name": "Python 3",
   "language": "python",
   "name": "python3"
  },
  "language_info": {
   "codemirror_mode": {
    "name": "ipython",
    "version": 3
   },
   "file_extension": ".py",
   "mimetype": "text/x-python",
   "name": "python",
   "nbconvert_exporter": "python",
   "pygments_lexer": "ipython3",
   "version": "3.6.5"
  }
 },
 "nbformat": 4,
 "nbformat_minor": 1
}
